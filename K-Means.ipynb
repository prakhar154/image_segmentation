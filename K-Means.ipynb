{
 "cells": [
  {
   "cell_type": "code",
   "execution_count": 112,
   "metadata": {},
   "outputs": [],
   "source": [
    "import numpy as np\n",
    "import matplotlib.pyplot as plt\n",
    "from sklearn.datasets import make_blobs"
   ]
  },
  {
   "cell_type": "code",
   "execution_count": 113,
   "metadata": {},
   "outputs": [],
   "source": [
    "x,y = make_blobs(\n",
    "    n_samples=500,\n",
    "    n_features=2,\n",
    "    centers=5,\n",
    "    random_state=3,\n",
    "    shuffle=True\n",
    "    \n",
    ")\n"
   ]
  },
  {
   "cell_type": "code",
   "execution_count": 114,
   "metadata": {},
   "outputs": [
    {
     "data": {
      "image/png": "[encoded data removed]",
      "text/plain": [
       "<Figure size 432x288 with 1 Axes>"
      ]
     },
     "metadata": {
      "needs_background": "light"
     },
     "output_type": "display_data"
    }
   ],
   "source": [
    "plt.scatter(x[:, 0], x[:, 1])\n",
    "plt.show()"
   ]
  },
  {
   "cell_type": "code",
   "execution_count": 96,
   "metadata": {},
   "outputs": [],
   "source": [
    "k = 5\n",
    "\n",
    "colors = [\"red\", \"green\", \"yellow\", \"orange\", \"blue\"]\n",
    "points = []\n",
    "\n",
    "clusters = {}\n",
    "\n",
    "for i in range(k):\n",
    "    centre = 20*(np.random.random((2))-.5)\n",
    "    \n",
    "    clusters[i] = {\n",
    "        'color':colors[i],\n",
    "        'points':points,\n",
    "        'center':centre\n",
    "    }\n",
    "    "
   ]
  },
  {
   "cell_type": "code",
   "execution_count": 97,
   "metadata": {},
   "outputs": [
    {
     "data": {
      "text/plain": [
       "{0: {'color': 'red',\n",
       "  'points': [],\n",
       "  'center': array([-8.01161846, -7.49276997])},\n",
       " 1: {'color': 'green',\n",
       "  'points': [],\n",
       "  'center': array([-1.36190044,  2.02442222])},\n",
       " 2: {'color': 'yellow',\n",
       "  'points': [],\n",
       "  'center': array([-2.89851957,  7.34997301])},\n",
       " 3: {'color': 'orange',\n",
       "  'points': [],\n",
       "  'center': array([ 5.59455294, -4.79032771])},\n",
       " 4: {'color': 'blue',\n",
       "  'points': [],\n",
       "  'center': array([ 2.00623224, -3.95237214])}}"
      ]
     },
     "execution_count": 97,
     "metadata": {},
     "output_type": "execute_result"
    }
   ],
   "source": [
    "clusters"
   ]
  },
  {
   "cell_type": "code",
   "execution_count": 98,
   "metadata": {},
   "outputs": [],
   "source": [
    "\n",
    "\n",
    "def distance(a,b):\n",
    "    return np.sqrt(np.sum((a-b)**2))\n",
    "    \n",
    "def assignPtsToClusters(clusters,X):\n",
    "    m =X.shape[0]\n",
    "    \n",
    "    for ix in range(m):\n",
    "        dist = []\n",
    "        for kx in range(k):\n",
    "            d = distance(X[ix],clusters[kx]['center'])\n",
    "            dist.append(d)\n",
    "            \n",
    "        cluster_idx = np.argmin(dist)\n",
    "        clusters[cluster_idx]['points'].append(X[ix])\n",
    "        \n",
    "\n",
    "def updateClusterCenters(clusters):\n",
    "    \n",
    "    \n",
    "    for kx in range(k):\n",
    "        pts = np.array(clusters[kx]['points'])\n",
    "        \n",
    "        if pts.shape[0]>0:\n",
    "            new_coordinates = np.mean(pts,axis=0)\n",
    "            clusters[kx]['center'] = new_coordinates\n",
    "            clusters[kx]['points'] = []\n",
    "\n"
   ]
  },
  {
   "cell_type": "code",
   "execution_count": 99,
   "metadata": {},
   "outputs": [],
   "source": [
    "def plotClusters(clusters):\n",
    "\n",
    "    for i in range(k):\n",
    "        pts = np.array(clusters[i]['points'])\n",
    "        if pts.shape[0]>0:\n",
    "            plt.scatter(pts[:,0],pts[:,1],color=clusters[i]['color'])\n",
    "        plt.scatter(clusters[i]['center'][0],clusters[i]['center'][1],marker='*',color='black')\n",
    "        \n",
    "    plt.show()"
   ]
  },
  {
   "cell_type": "code",
   "execution_count": 105,
   "metadata": {},
   "outputs": [
    {
     "data": {
      "image/png": "[encoded data removed]",
      "text/plain": [
       "<Figure size 432x288 with 1 Axes>"
      ]
     },
     "metadata": {
      "needs_background": "light"
     },
     "output_type": "display_data"
    }
   ],
   "source": [
    "assignPtsToClusters(clusters, x)\n",
    "plotClusters(clusters)\n",
    "updatePtsToClusters(clusters)"
   ]
  },
  {
   "cell_type": "code",
   "execution_count": null,
   "metadata": {},
   "outputs": [],
   "source": []
  },
  {
   "cell_type": "code",
   "execution_count": null,
   "metadata": {},
   "outputs": [],
   "source": []
  }
 ],
 "metadata": {
  "kernelspec": {
   "display_name": "Python 3",
   "language": "python",
   "name": "python3"
  },
  "language_info": {
   "codemirror_mode": {
    "name": "ipython",
    "version": 3
   },
   "file_extension": ".py",
   "mimetype": "text/x-python",
   "name": "python",
   "nbconvert_exporter": "python",
   "pygments_lexer": "ipython3",
   "version": "3.7.3"
  }
 },
 "nbformat": 4,
 "nbformat_minor": 2
}
